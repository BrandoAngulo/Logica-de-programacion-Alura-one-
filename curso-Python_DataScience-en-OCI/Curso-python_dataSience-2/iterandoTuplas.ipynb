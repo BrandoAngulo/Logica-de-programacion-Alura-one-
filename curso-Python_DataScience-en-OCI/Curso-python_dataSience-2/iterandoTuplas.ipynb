{
 "cells": [
  {
   "cell_type": "code",
   "execution_count": 3,
   "metadata": {},
   "outputs": [
    {
     "data": {
      "text/plain": [
       "('Jetta', 'Passat', 'Crossfox', 'DS5')"
      ]
     },
     "execution_count": 3,
     "metadata": {},
     "output_type": "execute_result"
    }
   ],
   "source": [
    "nombresCarros=(\"Jetta\",\"Passat\",\"Crossfox\",\"DS5\")\n",
    "nombresCarros"
   ]
  },
  {
   "cell_type": "code",
   "execution_count": 4,
   "metadata": {},
   "outputs": [
    {
     "name": "stdout",
     "output_type": "stream",
     "text": [
      "Jetta\n",
      "Passat\n",
      "Crossfox\n",
      "DS5\n"
     ]
    }
   ],
   "source": [
    "#iterando basicamente... item(indice) pasa dentro de la tupla y va imprimiendo una a una\n",
    "for item in nombresCarros:\n",
    "    print(item)"
   ]
  },
  {
   "cell_type": "code",
   "execution_count": 5,
   "metadata": {},
   "outputs": [],
   "source": [
    "#guardando una tupla en distintas variables\n",
    "a,b,c,d = nombresCarros"
   ]
  },
  {
   "cell_type": "code",
   "execution_count": 6,
   "metadata": {},
   "outputs": [
    {
     "data": {
      "text/plain": [
       "'Jetta'"
      ]
     },
     "execution_count": 6,
     "metadata": {},
     "output_type": "execute_result"
    }
   ],
   "source": [
    "#CArro 1 de la tupla autoCarros\n",
    "a"
   ]
  },
  {
   "cell_type": "code",
   "execution_count": 7,
   "metadata": {},
   "outputs": [
    {
     "data": {
      "text/plain": [
       "'Passat'"
      ]
     },
     "execution_count": 7,
     "metadata": {},
     "output_type": "execute_result"
    }
   ],
   "source": [
    "#CArro 2 de la tupla autoCarros\n",
    "b"
   ]
  },
  {
   "cell_type": "code",
   "execution_count": 8,
   "metadata": {},
   "outputs": [
    {
     "data": {
      "text/plain": [
       "'Crossfox'"
      ]
     },
     "execution_count": 8,
     "metadata": {},
     "output_type": "execute_result"
    }
   ],
   "source": [
    "#CArro 3 de la tupla autoCarros\n",
    "c"
   ]
  },
  {
   "cell_type": "code",
   "execution_count": 9,
   "metadata": {},
   "outputs": [
    {
     "data": {
      "text/plain": [
       "'DS5'"
      ]
     },
     "execution_count": 9,
     "metadata": {},
     "output_type": "execute_result"
    }
   ],
   "source": [
    "#CArro 4 de la tupla autoCarros\n",
    "d"
   ]
  },
  {
   "cell_type": "code",
   "execution_count": 10,
   "metadata": {},
   "outputs": [],
   "source": [
    "#guardando variables de la tupla nombreCarros ignorando otros elementos dentro de la tupla\n",
    "carro1,_,_,carro2 = nombresCarros"
   ]
  },
  {
   "cell_type": "code",
   "execution_count": 17,
   "metadata": {},
   "outputs": [
    {
     "data": {
      "text/plain": [
       "'Jetta'"
      ]
     },
     "execution_count": 17,
     "metadata": {},
     "output_type": "execute_result"
    }
   ],
   "source": [
    "carro1"
   ]
  },
  {
   "cell_type": "code",
   "execution_count": 18,
   "metadata": {},
   "outputs": [
    {
     "data": {
      "text/plain": [
       "'DS5'"
      ]
     },
     "execution_count": 18,
     "metadata": {},
     "output_type": "execute_result"
    }
   ],
   "source": [
    "carro2"
   ]
  },
  {
   "cell_type": "code",
   "execution_count": 11,
   "metadata": {},
   "outputs": [
    {
     "data": {
      "text/plain": [
       "'Passat'"
      ]
     },
     "execution_count": 11,
     "metadata": {},
     "output_type": "execute_result"
    }
   ],
   "source": [
    "#Escoger solo un elemento dentro de una tupla con una lista muy grande ignorando todo\n",
    "_, e, *_ =nombresCarros\n",
    "#hago el llamado de la variable \n",
    "e"
   ]
  },
  {
   "cell_type": "code",
   "execution_count": 35,
   "metadata": {},
   "outputs": [
    {
     "data": {
      "text/plain": [
       "['MAzda', 'Ford', 'Mustang']"
      ]
     },
     "execution_count": 35,
     "metadata": {},
     "output_type": "execute_result"
    }
   ],
   "source": [
    "#usando funcion ZIP\n",
    "carros = [\"MAzda\",\"Ford\",\"Mustang\"];\n",
    "carros"
   ]
  },
  {
   "cell_type": "code",
   "execution_count": 36,
   "metadata": {},
   "outputs": [
    {
     "data": {
      "text/plain": [
       "[2000000, 1500000, 3250000]"
      ]
     },
     "execution_count": 36,
     "metadata": {},
     "output_type": "execute_result"
    }
   ],
   "source": [
    "valores = [2000000,1500000,3250000];\n",
    "valores"
   ]
  },
  {
   "cell_type": "code",
   "execution_count": 43,
   "metadata": {},
   "outputs": [
    {
     "name": "stdout",
     "output_type": "stream",
     "text": [
      "<zip object at 0x00000217EAAA5180>\n"
     ]
    }
   ],
   "source": [
    "#utilizando la funcion zip\n",
    "print(zip(carros))"
   ]
  },
  {
   "cell_type": "code",
   "execution_count": 41,
   "metadata": {},
   "outputs": [
    {
     "name": "stdout",
     "output_type": "stream",
     "text": [
      "[('MAzda', 2000000), ('Ford', 1500000), ('Mustang', 3250000)]\n"
     ]
    }
   ],
   "source": [
    "#listando dentro de zip la variable carros\n",
    "print(list(zip(carros, valores)))\n"
   ]
  },
  {
   "cell_type": "code",
   "execution_count": 40,
   "metadata": {},
   "outputs": [
    {
     "name": "stdout",
     "output_type": "stream",
     "text": [
      "MAzda 2000000\n",
      "Ford 1500000\n",
      "Mustang 3250000\n"
     ]
    }
   ],
   "source": [
    "for carro, valor in zip(carros, valores): \n",
    "    print(carro,valor);"
   ]
  },
  {
   "cell_type": "code",
   "execution_count": 54,
   "metadata": {},
   "outputs": [
    {
     "name": "stdout",
     "output_type": "stream",
     "text": [
      "el auto Mustang es mayor de 2'000.000 con un valor de 3250000\n"
     ]
    }
   ],
   "source": [
    "#la funcion zip empaqueta las variables y podemos recorrer cada variable del zip independientemente con dos variables dentro del mismo for antes del zip osea que carro (recorre carros) y valores recorre (valores)\n",
    "for carro, valor in zip(carros, valores): \n",
    "    if (valor > 2000000):\n",
    "        print(f\"el auto {carro} es mayor de 2'000.000 con un valor de {valor}\")\n",
    "\n",
    "        \n"
   ]
  }
 ],
 "metadata": {
  "kernelspec": {
   "display_name": "Python 3.9.4 64-bit",
   "language": "python",
   "name": "python3"
  },
  "language_info": {
   "codemirror_mode": {
    "name": "ipython",
    "version": 3
   },
   "file_extension": ".py",
   "mimetype": "text/x-python",
   "name": "python",
   "nbconvert_exporter": "python",
   "pygments_lexer": "ipython3",
   "version": "3.9.4"
  },
  "orig_nbformat": 4,
  "vscode": {
   "interpreter": {
    "hash": "4a642a9a94d05d387b7a27be99b5a4ff6656c8c24931cc81c2f78dd14cfb5dc8"
   }
  }
 },
 "nbformat": 4,
 "nbformat_minor": 2
}
