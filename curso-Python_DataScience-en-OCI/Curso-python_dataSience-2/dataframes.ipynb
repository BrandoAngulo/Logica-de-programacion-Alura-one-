{
 "cells": [
  {
   "cell_type": "code",
   "execution_count": 1,
   "metadata": {},
   "outputs": [],
   "source": [
    "#ejercicio de data frames\n",
    "\n",
    "datos = {\n",
    "    'Crossfox': {'km': 35000, 'año': 2005}, \n",
    "    'DS5': {'km': 17000, 'año': 2015}, \n",
    "    'Fusca': {'km': 130000, 'año': 1979}, \n",
    "    'Jetta': {'km': 56000, 'año': 2011}, \n",
    "    'Passat': {'km': 62000, 'año': 1999}\n",
    "}"
   ]
  },
  {
   "cell_type": "code",
   "execution_count": 2,
   "metadata": {},
   "outputs": [],
   "source": [
    "def km_media(dataset, año_actual):\n",
    "    result = {}\n",
    "    for item in dataset.items():\n",
    "        media = item[1]['km'] / (año_actual - item[1]['año'])\n",
    "        item[1].update({ 'km_media': media })\n",
    "        result.update({ item[0]: item[1] })\n",
    "\n",
    "    return result"
   ]
  },
  {
   "cell_type": "code",
   "execution_count": 5,
   "metadata": {},
   "outputs": [],
   "source": [
    "import pandas as pd\n",
    "carros = pd.DataFrame(km_media(datos, 2019)).T"
   ]
  },
  {
   "cell_type": "code",
   "execution_count": 6,
   "metadata": {},
   "outputs": [
    {
     "data": {
      "text/plain": [
       "{'Crossfox': {'km': 35000, 'año': 2005, 'km_media': 2500.0},\n",
       " 'DS5': {'km': 17000, 'año': 2015, 'km_media': 4250.0},\n",
       " 'Fusca': {'km': 130000, 'año': 1979, 'km_media': 3250.0},\n",
       " 'Jetta': {'km': 56000, 'año': 2011, 'km_media': 7000.0},\n",
       " 'Passat': {'km': 62000, 'año': 1999, 'km_media': 3100.0}}"
      ]
     },
     "execution_count": 6,
     "metadata": {},
     "output_type": "execute_result"
    }
   ],
   "source": [
    "km_media(datos,2019)"
   ]
  }
 ],
 "metadata": {
  "kernelspec": {
   "display_name": "Python 3.9.4 64-bit",
   "language": "python",
   "name": "python3"
  },
  "language_info": {
   "codemirror_mode": {
    "name": "ipython",
    "version": 3
   },
   "file_extension": ".py",
   "mimetype": "text/x-python",
   "name": "python",
   "nbconvert_exporter": "python",
   "pygments_lexer": "ipython3",
   "version": "3.9.4"
  },
  "orig_nbformat": 4,
  "vscode": {
   "interpreter": {
    "hash": "4a642a9a94d05d387b7a27be99b5a4ff6656c8c24931cc81c2f78dd14cfb5dc8"
   }
  }
 },
 "nbformat": 4,
 "nbformat_minor": 2
}
