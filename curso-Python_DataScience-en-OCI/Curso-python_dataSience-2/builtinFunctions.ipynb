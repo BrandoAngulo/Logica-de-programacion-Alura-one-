{
 "cells": [
  {
   "cell_type": "code",
   "execution_count": 1,
   "metadata": {},
   "outputs": [],
   "source": [
    "datos = {'Jetta Variant':88070, 'passat':880000, 'CrossFoxx':55000000 }"
   ]
  },
  {
   "cell_type": "code",
   "execution_count": 2,
   "metadata": {},
   "outputs": [],
   "source": [
    "#hacer la suma de los valores de datos sin builtin functions\n",
    "#1 se crea un array vacio para guardar los valores\n",
    "valores = []"
   ]
  },
  {
   "cell_type": "code",
   "execution_count": 4,
   "metadata": {},
   "outputs": [
    {
     "data": {
      "text/plain": [
       "[88070, 880000, 55000000]"
      ]
     },
     "execution_count": 4,
     "metadata": {},
     "output_type": "execute_result"
    }
   ],
   "source": [
    "#2 iteramos en datos para guardar los valores en el array vacio\n",
    "for valor in datos.values():\n",
    "    valores.append(valor)\n",
    "valores"
   ]
  },
  {
   "cell_type": "code",
   "execution_count": 6,
   "metadata": {},
   "outputs": [
    {
     "data": {
      "text/plain": [
       "55968070"
      ]
     },
     "execution_count": 6,
     "metadata": {},
     "output_type": "execute_result"
    }
   ],
   "source": [
    "#sumamos los valores que se extrayeron de los datos\n",
    "suma = 0\n",
    "for valor in datos.values():\n",
    "    suma+=valor\n",
    "suma"
   ]
  },
  {
   "cell_type": "code",
   "execution_count": 8,
   "metadata": {},
   "outputs": [
    {
     "data": {
      "text/plain": [
       "[88070, 880000, 55000000]"
      ]
     },
     "execution_count": 8,
     "metadata": {},
     "output_type": "execute_result"
    }
   ],
   "source": [
    "#ahora se va a extraer los valores con builtin functions\n",
    "#pasamos los valores dentro de una lista con la funcion list\n",
    "list(datos.values())"
   ]
  },
  {
   "cell_type": "code",
   "execution_count": 11,
   "metadata": {},
   "outputs": [
    {
     "data": {
      "text/plain": [
       "55968070"
      ]
     },
     "execution_count": 11,
     "metadata": {},
     "output_type": "execute_result"
    }
   ],
   "source": [
    "#2 hacemos la suma con la funcion sum y dentro de la funcion los valores extraidos\n",
    "sum(datos.values())"
   ]
  },
  {
   "cell_type": "code",
   "execution_count": 13,
   "metadata": {},
   "outputs": [],
   "source": [
    "datos = {\n",
    "    'Crossfox': {'km': 35000, 'año': 2005}, \n",
    "    'DS5': {'km': 17000, 'año': 2015}, \n",
    "    'Fusca': {'km': 130000, 'año': 1979}, \n",
    "    'Jetta': {'km': 56000, 'año': 2011}, \n",
    "    'Passat': {'km': 62000, 'año': 1999}\n",
    "}"
   ]
  },
  {
   "cell_type": "code",
   "execution_count": 21,
   "metadata": {},
   "outputs": [],
   "source": [
    "def km_media(dataset, año_actual):\n",
    "    for item in dataset.items():\n",
    "        result = item[1]['km'] / (año_actual - item[1]['año'])\n",
    "        print(result)"
   ]
  },
  {
   "cell_type": "code",
   "execution_count": 22,
   "metadata": {},
   "outputs": [
    {
     "name": "stdout",
     "output_type": "stream",
     "text": [
      "2500.0\n",
      "4250.0\n",
      "3250.0\n",
      "7000.0\n",
      "3100.0\n"
     ]
    }
   ],
   "source": [
    "km_media(datos,2019)"
   ]
  },
  {
   "cell_type": "code",
   "execution_count": 23,
   "metadata": {},
   "outputs": [],
   "source": [
    "# ejercicio 5\n",
    "datos = {\n",
    "    'Crossfox': {'km': 35000, 'año': 2005}, \n",
    "    'DS5': {'km': 17000, 'año': 2015}, \n",
    "    'Fusca': {'km': 130000, 'año': 1979}, \n",
    "    'Jetta': {'km': 56000, 'año': 2011}, \n",
    "    'Passat': {'km': 62000, 'año': 1999}\n",
    "}"
   ]
  },
  {
   "cell_type": "code",
   "execution_count": 28,
   "metadata": {},
   "outputs": [],
   "source": [
    "def km_media(dataset, año_actual):\n",
    "    result = {}\n",
    "    for item in dataset.items():\n",
    "        media = item[1]['km'] / (año_actual - item[1]['año'])\n",
    "        result.update({ item[0]: media })\n",
    "    return result"
   ]
  },
  {
   "cell_type": "code",
   "execution_count": 29,
   "metadata": {},
   "outputs": [
    {
     "data": {
      "text/plain": [
       "{'Crossfox': 2500.0,\n",
       " 'DS5': 4250.0,\n",
       " 'Fusca': 3250.0,\n",
       " 'Jetta': 7000.0,\n",
       " 'Passat': 3100.0}"
      ]
     },
     "execution_count": 29,
     "metadata": {},
     "output_type": "execute_result"
    }
   ],
   "source": [
    "km_media(datos, 2019)"
   ]
  }
 ],
 "metadata": {
  "kernelspec": {
   "display_name": "Python 3.10.5 64-bit",
   "language": "python",
   "name": "python3"
  },
  "language_info": {
   "codemirror_mode": {
    "name": "ipython",
    "version": 3
   },
   "file_extension": ".py",
   "mimetype": "text/x-python",
   "name": "python",
   "nbconvert_exporter": "python",
   "pygments_lexer": "ipython3",
   "version": "3.10.5"
  },
  "orig_nbformat": 4,
  "vscode": {
   "interpreter": {
    "hash": "07e8dad1a011708ad6e072858c035be46a0854016a42c2723c4c943cd5321906"
   }
  }
 },
 "nbformat": 4,
 "nbformat_minor": 2
}
