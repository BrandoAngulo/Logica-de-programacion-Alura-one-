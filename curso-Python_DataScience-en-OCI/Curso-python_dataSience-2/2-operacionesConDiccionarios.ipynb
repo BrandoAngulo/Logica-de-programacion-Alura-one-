{
 "cells": [
  {
   "cell_type": "code",
   "execution_count": 1,
   "metadata": {},
   "outputs": [
    {
     "data": {
      "text/plain": [
       "{'chevrolet': 5000000, 'Camaro': 56000000, 'Ford': 2500000000}"
      ]
     },
     "execution_count": 1,
     "metadata": {},
     "output_type": "execute_result"
    }
   ],
   "source": [
    "datos = {\"chevrolet\":5000000, \"Camaro\":56000000, \"Ford\":2500000000};\n",
    "datos"
   ]
  },
  {
   "cell_type": "code",
   "execution_count": 3,
   "metadata": {},
   "outputs": [
    {
     "name": "stdout",
     "output_type": "stream",
     "text": [
      "5000000\n"
     ]
    }
   ],
   "source": [
    "#acceder a cualquier valor en un diccionario llamando la key(llave)\n",
    "print(datos[\"chevrolet\"]);\n"
   ]
  },
  {
   "cell_type": "code",
   "execution_count": 8,
   "metadata": {},
   "outputs": [
    {
     "name": "stdout",
     "output_type": "stream",
     "text": [
      "True\n"
     ]
    }
   ],
   "source": [
    "#trabajando con el metodo key in dict es de tipo booleano quiere decir que si la llave esta en el diccionario si es true o false\n",
    "print(\"chevrolet\" in datos);"
   ]
  },
  {
   "cell_type": "code",
   "execution_count": 23,
   "metadata": {},
   "outputs": [
    {
     "name": "stdout",
     "output_type": "stream",
     "text": [
      "True\n"
     ]
    }
   ],
   "source": [
    "#cuando no hay un dato en un diccionario con el mismo metodo anterior\n",
    "print(\"KIA\" in datos)"
   ]
  },
  {
   "cell_type": "code",
   "execution_count": 12,
   "metadata": {},
   "outputs": [
    {
     "name": "stdout",
     "output_type": "stream",
     "text": [
      "True\n"
     ]
    }
   ],
   "source": [
    "#otra forma de trabajar con el metodo anterior\n",
    "print(\"kia\" not in datos) #kia no esta en el diccionario datos"
   ]
  },
  {
   "cell_type": "code",
   "execution_count": 13,
   "metadata": {},
   "outputs": [
    {
     "name": "stdout",
     "output_type": "stream",
     "text": [
      "3\n"
     ]
    }
   ],
   "source": [
    "#obtener el tamaño de un diccionario con la funcion len(dict)\n",
    "print(len(datos));"
   ]
  },
  {
   "cell_type": "code",
   "execution_count": 21,
   "metadata": {},
   "outputs": [
    {
     "data": {
      "text/plain": [
       "{'chevrolet': 5000000,\n",
       " 'Camaro': 56000000,\n",
       " 'Ford': 2500000000,\n",
       " 'KIA': 250000000}"
      ]
     },
     "execution_count": 21,
     "metadata": {},
     "output_type": "execute_result"
    }
   ],
   "source": [
    "#añadir otro dato a un diccionario existente osea q un diccionario es mutable\n",
    "datos[\"KIA\"]=250000000\n",
    "datos"
   ]
  },
  {
   "cell_type": "code",
   "execution_count": 20,
   "metadata": {},
   "outputs": [
    {
     "name": "stdout",
     "output_type": "stream",
     "text": [
      "4\n"
     ]
    }
   ],
   "source": [
    "#obteniendo el tamaño para saber si se añadio el nuevo dato\n",
    "print(len(datos));"
   ]
  },
  {
   "cell_type": "code",
   "execution_count": 22,
   "metadata": {},
   "outputs": [
    {
     "data": {
      "text/plain": [
       "{'Camaro': 56000000, 'Ford': 2500000000, 'KIA': 250000000}"
      ]
     },
     "execution_count": 22,
     "metadata": {},
     "output_type": "execute_result"
    }
   ],
   "source": [
    "#Eliminando datos dentro de un diccionario\n",
    "del datos[\"chevrolet\"];\n",
    "datos"
   ]
  },
  {
   "cell_type": "code",
   "execution_count": 24,
   "metadata": {},
   "outputs": [
    {
     "data": {
      "text/plain": [
       "{'Camaro': 56000000, 'Ford': 2500000000, 'KIA': 250000000, 'MAZDA': 55000000}"
      ]
     },
     "execution_count": 24,
     "metadata": {},
     "output_type": "execute_result"
    }
   ],
   "source": [
    "#tambien podemos agregar datos con la funcion update\n",
    "datos.update({\"MAZDA\":55000000});\n",
    "datos"
   ]
  },
  {
   "cell_type": "code",
   "execution_count": 42,
   "metadata": {},
   "outputs": [
    {
     "data": {
      "text/plain": [
       "{'Camaro': 120000000,\n",
       " 'Ford': 2500000000,\n",
       " 'KIA': 250000000,\n",
       " 'MAZDA': 55000000,\n",
       " 'Chevrolet': 120000000,\n",
       " 'Ferrari': 252000000,\n",
       " 'passat': 85000}"
      ]
     },
     "execution_count": 42,
     "metadata": {},
     "output_type": "execute_result"
    }
   ],
   "source": [
    "#otra forma de agregar elementos a un diccionario\n",
    "datos.update(passat=85000);\n",
    "datos"
   ]
  },
  {
   "cell_type": "code",
   "execution_count": 43,
   "metadata": {},
   "outputs": [
    {
     "data": {
      "text/plain": [
       "{'Camaro': 120000000,\n",
       " 'Ford': 2500000000,\n",
       " 'KIA': 250000000,\n",
       " 'MAZDA': 55000000,\n",
       " 'Chevrolet': 120000000,\n",
       " 'Ferrari': 252000000,\n",
       " 'passat': 85000}"
      ]
     },
     "execution_count": 43,
     "metadata": {},
     "output_type": "execute_result"
    }
   ],
   "source": [
    "#actualizando o modificando datos dentro de un diccionario con la misma funcion update y tambien podemos añadir\n",
    "datos.update({\"Camaro\":120000000,\"Ferrari\":252000000});\n",
    "datos"
   ]
  },
  {
   "cell_type": "code",
   "execution_count": 47,
   "metadata": {},
   "outputs": [
    {
     "data": {
      "text/plain": [
       "{'Camaro': 120000000,\n",
       " 'Ford': 2500000000,\n",
       " 'KIA': 250000000,\n",
       " 'MAZDA': 55000000,\n",
       " 'Chevrolet': 120000000,\n",
       " 'Ferrari': 252000000,\n",
       " 'passat': 920000000}"
      ]
     },
     "execution_count": 47,
     "metadata": {},
     "output_type": "execute_result"
    }
   ],
   "source": [
    "#otro manera de actualizar un dato dentro de un diccionario con la misma funcion\n",
    "datos.update(passat = 920000000)\n",
    "datos"
   ]
  },
  {
   "cell_type": "code",
   "execution_count": 29,
   "metadata": {},
   "outputs": [
    {
     "data": {
      "text/plain": [
       "{'Camaro': 120000000,\n",
       " 'Ford': 2500000000,\n",
       " 'KIA': 250000000,\n",
       " 'MAZDA': 55000000,\n",
       " 'Chevrolet': 120000000,\n",
       " 'Ferrari': 252000000}"
      ]
     },
     "execution_count": 29,
     "metadata": {},
     "output_type": "execute_result"
    }
   ],
   "source": [
    "#copiar o clonar un diccionario\n",
    "datosCopy = datos.copy();\n",
    "datosCopy"
   ]
  },
  {
   "cell_type": "code",
   "execution_count": 38,
   "metadata": {},
   "outputs": [
    {
     "name": "stdout",
     "output_type": "stream",
     "text": [
      "la llave fue Eliminada exitosamente\n"
     ]
    },
    {
     "data": {
      "text/plain": [
       "{'Camaro': 120000000,\n",
       " 'Ford': 2500000000,\n",
       " 'KIA': 250000000,\n",
       " 'MAZDA': 55000000,\n",
       " 'Chevrolet': 120000000}"
      ]
     },
     "execution_count": 38,
     "metadata": {},
     "output_type": "execute_result"
    }
   ],
   "source": [
    "#funcion pop esta funcion elimna un dato o llave dentro de un diccionario y tambien podemos modificar un mensaje para mostrar cuando fue eliminada o si no existe mostrar otro \n",
    "print(datosCopy.pop(\"Ferrari\",\"la llave fue Eliminada exitosamente\"));\n",
    "datosCopy\n"
   ]
  },
  {
   "cell_type": "code",
   "execution_count": 36,
   "metadata": {},
   "outputs": [
    {
     "name": "stdout",
     "output_type": "stream",
     "text": [
      "No existe la llave\n"
     ]
    },
    {
     "data": {
      "text/plain": [
       "{'Camaro': 120000000,\n",
       " 'Ford': 2500000000,\n",
       " 'KIA': 250000000,\n",
       " 'MAZDA': 55000000,\n",
       " 'Chevrolet': 120000000,\n",
       " 'Ferrari': 252000000}"
      ]
     },
     "execution_count": 36,
     "metadata": {},
     "output_type": "execute_result"
    }
   ],
   "source": [
    "print(datos.pop(\"pigeot\",\"No existe la llave\"))\n",
    "datos"
   ]
  },
  {
   "cell_type": "code",
   "execution_count": 40,
   "metadata": {},
   "outputs": [
    {
     "data": {
      "text/plain": [
       "{}"
      ]
     },
     "execution_count": 40,
     "metadata": {},
     "output_type": "execute_result"
    }
   ],
   "source": [
    "#clear esta funcion lo que hace es vaciar o limpiar todo los datos dentro de un diccionario\n",
    "datosCopy.clear()\n",
    "datosCopy"
   ]
  },
  {
   "cell_type": "code",
   "execution_count": 53,
   "metadata": {},
   "outputs": [
    {
     "data": {
      "text/plain": [
       "dict_keys(['Camaro', 'Ford', 'KIA', 'MAZDA', 'Chevrolet', 'Ferrari', 'passat'])"
      ]
     },
     "execution_count": 53,
     "metadata": {},
     "output_type": "execute_result"
    }
   ],
   "source": [
    "#obtener solo las llaves o keys de un diccionario\n",
    "datos.keys()"
   ]
  },
  {
   "cell_type": "code",
   "execution_count": 52,
   "metadata": {},
   "outputs": [
    {
     "data": {
      "text/plain": [
       "dict_values([120000000, 2500000000, 250000000, 55000000, 120000000, 252000000, 920000000])"
      ]
     },
     "execution_count": 52,
     "metadata": {},
     "output_type": "execute_result"
    }
   ],
   "source": [
    "#funcion values que solo devuelve los valores de las llaves o keys de un diccionario\n",
    "datos.values()"
   ]
  },
  {
   "cell_type": "code",
   "execution_count": 58,
   "metadata": {},
   "outputs": [
    {
     "name": "stdout",
     "output_type": "stream",
     "text": [
      "Camaro\n",
      "Ford\n",
      "KIA\n",
      "MAZDA\n",
      "Chevrolet\n",
      "Ferrari\n",
      "passat\n"
     ]
    }
   ],
   "source": [
    "#obteniendo las llaves de un diccionario iterando con el bucle for es lo mismo con values para obtener solo los valores\n",
    "for i in datos.keys():\n",
    "    print(i)"
   ]
  },
  {
   "cell_type": "code",
   "execution_count": 61,
   "metadata": {},
   "outputs": [
    {
     "data": {
      "text/plain": [
       "dict_items([('Camaro', 120000000), ('Ford', 2500000000), ('KIA', 250000000), ('MAZDA', 55000000), ('Chevrolet', 120000000), ('Ferrari', 252000000), ('passat', 920000000)])"
      ]
     },
     "execution_count": 61,
     "metadata": {},
     "output_type": "execute_result"
    }
   ],
   "source": [
    "#funcion para obtener un diccionario devolviendonos una tupla para poder utilizarlo con un bucle\n",
    "datos.items()"
   ]
  },
  {
   "cell_type": "code",
   "execution_count": 60,
   "metadata": {},
   "outputs": [
    {
     "name": "stdout",
     "output_type": "stream",
     "text": [
      "('Camaro', 120000000)\n",
      "('Ford', 2500000000)\n",
      "('KIA', 250000000)\n",
      "('MAZDA', 55000000)\n",
      "('Chevrolet', 120000000)\n",
      "('Ferrari', 252000000)\n",
      "('passat', 920000000)\n"
     ]
    }
   ],
   "source": [
    "#usando la funcion item con un bucle for\n",
    "for i in datos.items():\n",
    "    print(i)"
   ]
  },
  {
   "cell_type": "code",
   "execution_count": 66,
   "metadata": {},
   "outputs": [
    {
     "name": "stdout",
     "output_type": "stream",
     "text": [
      "Carro: Camaro 120000000\n",
      "Carro: Ford 2500000000\n",
      "Carro: KIA 250000000\n",
      "Carro: MAZDA 55000000\n",
      "Carro: Chevrolet 120000000\n",
      "Carro: Ferrari 252000000\n",
      "Carro: passat 920000000\n"
     ]
    }
   ],
   "source": [
    "#como el metodo item nos devuelve una tupla, podemos desempaquetar o sacar los datos sin que nos muestre la tupla cuando le damos las variables a la key y al valor\n",
    "for i, j in datos.items():\n",
    "    print(\"Carro:\",i,j) "
   ]
  },
  {
   "cell_type": "code",
   "execution_count": 73,
   "metadata": {},
   "outputs": [
    {
     "name": "stdout",
     "output_type": "stream",
     "text": [
      "Camaro 120000000\n",
      "Ford 2500000000\n",
      "KIA 250000000\n",
      "Chevrolet 120000000\n",
      "Ferrari 252000000\n",
      "passat 920000000\n"
     ]
    }
   ],
   "source": [
    "#Haciendo condiciones despues para obtener los carros mayores del precio y utilizando la funcion item con las variables para poder desempaquetar y asi poder acceder a los datos y que el condicional se ejecute\n",
    "for i, j in datos.items():\n",
    "    if(j > 100000000):\n",
    "        print(i,j)"
   ]
  }
 ],
 "metadata": {
  "kernelspec": {
   "display_name": "Python 3.10.5 64-bit",
   "language": "python",
   "name": "python3"
  },
  "language_info": {
   "codemirror_mode": {
    "name": "ipython",
    "version": 3
   },
   "file_extension": ".py",
   "mimetype": "text/x-python",
   "name": "python",
   "nbconvert_exporter": "python",
   "pygments_lexer": "ipython3",
   "version": "3.10.5"
  },
  "orig_nbformat": 4,
  "vscode": {
   "interpreter": {
    "hash": "07e8dad1a011708ad6e072858c035be46a0854016a42c2723c4c943cd5321906"
   }
  }
 },
 "nbformat": 4,
 "nbformat_minor": 2
}
