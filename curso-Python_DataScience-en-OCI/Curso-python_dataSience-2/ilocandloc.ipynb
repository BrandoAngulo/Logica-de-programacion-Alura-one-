{
 "cells": [
  {
   "cell_type": "code",
   "execution_count": 1,
   "metadata": {},
   "outputs": [],
   "source": [
    "import pandas as pd\n",
    "\n",
    "datos = {\n",
    "   'Motor': ['Motor 4.0 Turbo', 'Motor Diesel', 'Motor Diesel V8', 'Motor 2.0', 'Motor 1.6'],\n",
    "   'Año': [2019, 2003, 1991, 2019, 1990],\n",
    "   'Kilometraje': [0.0, 5712.0, 37123.0, 0.0, 120000.0],\n",
    "   'Cero_km': [True, False, False, True, False],\n",
    "   'Valor': [88000.0, 106000.0, 72000.0, 89000.0, 32000.0]\n",
    "}\n",
    "\n",
    "dataset = pd.DataFrame(datos, index = ['Jetta', 'Passat', 'Crossfox', 'DS5', 'Fusca'])"
   ]
  },
  {
   "cell_type": "code",
   "execution_count": 2,
   "metadata": {},
   "outputs": [
    {
     "data": {
      "text/html": [
       "<div>\n",
       "<style scoped>\n",
       "    .dataframe tbody tr th:only-of-type {\n",
       "        vertical-align: middle;\n",
       "    }\n",
       "\n",
       "    .dataframe tbody tr th {\n",
       "        vertical-align: top;\n",
       "    }\n",
       "\n",
       "    .dataframe thead th {\n",
       "        text-align: right;\n",
       "    }\n",
       "</style>\n",
       "<table border=\"1\" class=\"dataframe\">\n",
       "  <thead>\n",
       "    <tr style=\"text-align: right;\">\n",
       "      <th></th>\n",
       "      <th>Motor</th>\n",
       "      <th>Valor</th>\n",
       "    </tr>\n",
       "  </thead>\n",
       "  <tbody>\n",
       "    <tr>\n",
       "      <th>Passat</th>\n",
       "      <td>Motor Diesel</td>\n",
       "      <td>106000.0</td>\n",
       "    </tr>\n",
       "    <tr>\n",
       "      <th>DS5</th>\n",
       "      <td>Motor 2.0</td>\n",
       "      <td>89000.0</td>\n",
       "    </tr>\n",
       "  </tbody>\n",
       "</table>\n",
       "</div>"
      ],
      "text/plain": [
       "               Motor     Valor\n",
       "Passat  Motor Diesel  106000.0\n",
       "DS5        Motor 2.0   89000.0"
      ]
     },
     "execution_count": 2,
     "metadata": {},
     "output_type": "execute_result"
    }
   ],
   "source": [
    "dataset.iloc[[1, 3], [0, -1]]"
   ]
  },
  {
   "cell_type": "code",
   "execution_count": 3,
   "metadata": {},
   "outputs": [
    {
     "data": {
      "text/html": [
       "<div>\n",
       "<style scoped>\n",
       "    .dataframe tbody tr th:only-of-type {\n",
       "        vertical-align: middle;\n",
       "    }\n",
       "\n",
       "    .dataframe tbody tr th {\n",
       "        vertical-align: top;\n",
       "    }\n",
       "\n",
       "    .dataframe thead th {\n",
       "        text-align: right;\n",
       "    }\n",
       "</style>\n",
       "<table border=\"1\" class=\"dataframe\">\n",
       "  <thead>\n",
       "    <tr style=\"text-align: right;\">\n",
       "      <th></th>\n",
       "      <th>Motor</th>\n",
       "      <th>Valor</th>\n",
       "    </tr>\n",
       "  </thead>\n",
       "  <tbody>\n",
       "    <tr>\n",
       "      <th>Passat</th>\n",
       "      <td>Motor Diesel</td>\n",
       "      <td>106000.0</td>\n",
       "    </tr>\n",
       "    <tr>\n",
       "      <th>DS5</th>\n",
       "      <td>Motor 2.0</td>\n",
       "      <td>89000.0</td>\n",
       "    </tr>\n",
       "  </tbody>\n",
       "</table>\n",
       "</div>"
      ],
      "text/plain": [
       "               Motor     Valor\n",
       "Passat  Motor Diesel  106000.0\n",
       "DS5        Motor 2.0   89000.0"
      ]
     },
     "execution_count": 3,
     "metadata": {},
     "output_type": "execute_result"
    }
   ],
   "source": [
    "dataset.loc[['Passat', 'DS5'], ['Motor', 'Valor']]"
   ]
  }
 ],
 "metadata": {
  "kernelspec": {
   "display_name": "Python 3.10.5 64-bit",
   "language": "python",
   "name": "python3"
  },
  "language_info": {
   "codemirror_mode": {
    "name": "ipython",
    "version": 3
   },
   "file_extension": ".py",
   "mimetype": "text/x-python",
   "name": "python",
   "nbconvert_exporter": "python",
   "pygments_lexer": "ipython3",
   "version": "3.10.5"
  },
  "orig_nbformat": 4,
  "vscode": {
   "interpreter": {
    "hash": "07e8dad1a011708ad6e072858c035be46a0854016a42c2723c4c943cd5321906"
   }
  }
 },
 "nbformat": 4,
 "nbformat_minor": 2
}
