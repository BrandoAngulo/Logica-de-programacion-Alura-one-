{
 "cells": [
  {
   "cell_type": "code",
   "execution_count": 2,
   "metadata": {},
   "outputs": [
    {
     "data": {
      "text/plain": [
       "\" La función zip()\\nPRÓXIMA ACTIVIDAD\\n\\nDos herramientas muy utilizadas al iterar con tuplas son el desempaquetado de tuplas y la built-in function zip().\\n\\nCon el desempaquetado de tuplas, es posible hacer declaraciones conjuntas de variables y usar cada variable individualmente. Por ejemplo:\\n\\nPara responder a esta pregunta, considera la misma tupla de la actividad anterior:\\n\\nnombre, valor = ('Passat', 100000.0)COPIA EL CÓDIGO\\nLa función zip() permite generar un iterador de tuplas, como en el siguiente ejemplo:\\n\\nIn [1]:\\n\\nnombres = ['Passat', 'Crossfox']\\nvalores = [100000.0, 75000.0]\\nlist(zip(nombres, valores))COPIA EL CÓDIGO\\nOut [1]:\\n\\n[('Passat', 100000.0), ('Crossfox', 75000.0)]COPIA EL CÓDIGO\\nConsiderando las dos listas siguientes:\\n\\nnombres = ['Passat', 'Crossfox', 'DS5', 'C4', 'Jetta']\\nkms = [15000, 12000, 32000, 8000, 50000]COPIA EL CÓDIGO\\nY utilizando las herramientas presentadas anteriormente, selecciona la alternativa con el código que permite imprimir los nombres de los vehículos con kilometraje inferior a 20.000 km.\\n\\nAlternativa correta\\nfor item in zip(nombres, kms):\\n    if(kms < 20000):\\n        print(nombres)\\n\\nAlternativa correta\\nfor nombre, km in [nombres, kms]:\\n    if(km < 20000):\\n        print(nombre)\\n\\nAlternativa correta\\nfor km, nombre in zip(nombres, kms):\\n    if(km < 20000):\\n        print(nombre)\\n\\nAlternativa correta\\nfor nombre, km in zip(nombres, kms):\\n    if(km < 20000):\\n        print(nombre) \""
      ]
     },
     "execution_count": 2,
     "metadata": {},
     "output_type": "execute_result"
    }
   ],
   "source": [
    "\"\"\" La función zip()\n",
    "PRÓXIMA ACTIVIDAD\n",
    "\n",
    "Dos herramientas muy utilizadas al iterar con tuplas son el desempaquetado de tuplas y la built-in function zip().\n",
    "\n",
    "Con el desempaquetado de tuplas, es posible hacer declaraciones conjuntas de variables y usar cada variable individualmente. Por ejemplo:\n",
    "\n",
    "Para responder a esta pregunta, considera la misma tupla de la actividad anterior:\n",
    "\n",
    "nombre, valor = ('Passat', 100000.0)COPIA EL CÓDIGO\n",
    "La función zip() permite generar un iterador de tuplas, como en el siguiente ejemplo:\n",
    "\n",
    "In [1]:\n",
    "\n",
    "nombres = ['Passat', 'Crossfox']\n",
    "valores = [100000.0, 75000.0]\n",
    "list(zip(nombres, valores))COPIA EL CÓDIGO\n",
    "Out [1]:\n",
    "\n",
    "[('Passat', 100000.0), ('Crossfox', 75000.0)]COPIA EL CÓDIGO\n",
    "Considerando las dos listas siguientes:\n",
    "\n",
    "nombres = ['Passat', 'Crossfox', 'DS5', 'C4', 'Jetta']\n",
    "kms = [15000, 12000, 32000, 8000, 50000]COPIA EL CÓDIGO\n",
    "Y utilizando las herramientas presentadas anteriormente, selecciona la alternativa con el código que permite imprimir los nombres de los vehículos con kilometraje inferior a 20.000 km.\n",
    "\n",
    "Alternativa correta\n",
    "for item in zip(nombres, kms):\n",
    "    if(kms < 20000):\n",
    "        print(nombres)\n",
    "\n",
    "Alternativa correta\n",
    "for nombre, km in [nombres, kms]:\n",
    "    if(km < 20000):\n",
    "        print(nombre)\n",
    "\n",
    "Alternativa correta\n",
    "for km, nombre in zip(nombres, kms):\n",
    "    if(km < 20000):\n",
    "        print(nombre)\n",
    "\n",
    "Alternativa correta\n",
    "for nombre, km in zip(nombres, kms):\n",
    "    if(km < 20000):\n",
    "        print(nombre) \"\"\""
   ]
  }
 ],
 "metadata": {
  "kernelspec": {
   "display_name": "Python 3.9.4 64-bit",
   "language": "python",
   "name": "python3"
  },
  "language_info": {
   "codemirror_mode": {
    "name": "ipython",
    "version": 3
   },
   "file_extension": ".py",
   "mimetype": "text/x-python",
   "name": "python",
   "nbconvert_exporter": "python",
   "pygments_lexer": "ipython3",
   "version": "3.9.4"
  },
  "orig_nbformat": 4,
  "vscode": {
   "interpreter": {
    "hash": "4a642a9a94d05d387b7a27be99b5a4ff6656c8c24931cc81c2f78dd14cfb5dc8"
   }
  }
 },
 "nbformat": 4,
 "nbformat_minor": 2
}
