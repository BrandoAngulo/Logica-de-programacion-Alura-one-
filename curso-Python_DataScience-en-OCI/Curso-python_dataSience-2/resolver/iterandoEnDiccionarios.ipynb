{
 "cells": [
  {
   "cell_type": "code",
   "execution_count": 1,
   "metadata": {},
   "outputs": [
    {
     "data": {
      "text/plain": [
       "' Selecciona la alternativa que muestre el código que imprima sólo los nombres de los vehículos que tengan el año de fabricación mayor o igual a 2000. '"
      ]
     },
     "execution_count": 1,
     "metadata": {},
     "output_type": "execute_result"
    }
   ],
   "source": [
    "\"\"\" Utiliza el siguiente diccionario para responder a esta actividad: \"\"\"\n",
    "datos = {\n",
    "    'Crossfox': {'valor': 72000, 'año': 2005}, \n",
    "    'DS5': {'valor': 125000, 'año': 2015}, \n",
    "    'Fusca': {'valor': 150000, 'año': 1976}, \n",
    "    'Jetta': {'valor': 88000, 'año': 2010}, \n",
    "    'Passat': {'valor': 106000, 'año': 1998}\n",
    "}\n",
    "\n",
    "\"\"\" Selecciona la alternativa que muestre el código que imprima sólo los nombres de los vehículos que tengan el año de fabricación mayor o igual a 2000. \"\"\"\n"
   ]
  },
  {
   "cell_type": "code",
   "execution_count": 12,
   "metadata": {},
   "outputs": [
    {
     "name": "stdout",
     "output_type": "stream",
     "text": [
      "Crossfox\n",
      "DS5\n",
      "Jetta\n"
     ]
    }
   ],
   "source": [
    "\n",
    "for item in datos.items():\n",
    "    if(item[1]['año'] >= 2000):\n",
    "        print(item[0])\n"
   ]
  }
 ],
 "metadata": {
  "kernelspec": {
   "display_name": "Python 3.10.5 64-bit",
   "language": "python",
   "name": "python3"
  },
  "language_info": {
   "codemirror_mode": {
    "name": "ipython",
    "version": 3
   },
   "file_extension": ".py",
   "mimetype": "text/x-python",
   "name": "python",
   "nbconvert_exporter": "python",
   "pygments_lexer": "ipython3",
   "version": "3.10.5"
  },
  "orig_nbformat": 4,
  "vscode": {
   "interpreter": {
    "hash": "07e8dad1a011708ad6e072858c035be46a0854016a42c2723c4c943cd5321906"
   }
  }
 },
 "nbformat": 4,
 "nbformat_minor": 2
}
