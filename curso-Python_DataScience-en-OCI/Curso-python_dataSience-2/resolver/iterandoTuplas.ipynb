{
 "cells": [
  {
   "cell_type": "code",
   "execution_count": 3,
   "metadata": {},
   "outputs": [
    {
     "data": {
      "text/plain": [
       "\"Bucles for con tuplas \\nEl procedimiento de iteración en tuplas es el mismo que aprendimos con listas, en el entrenamiento anterior. Usamos la tupla como iterador de un bucle for simple o anidado, y obtenemos acceso a cada elemento individualmente.\\n\\nPara responder a esta pregunta, considera la misma tupla de la actividad anterior:\\n\\ncarros = (\\n    (\\n        'Jetta Variant',\\n        'Motor 4.0 Turbo',\\n        2003,\\n        False,\\n        ('Llantas de aleación', 'Cerraduras eléctricas', 'Piloto automático')\\n    ),\\n    (\\n        'Passat',\\n        'Motor Diesel',\\n        1991,\\n        True,\\n        ('Central multimedia', 'Techo panoramico', 'Frenos ABS')\\n    )\\n)COPIA EL CÓDIGO\\nObserva que se trata de una tupla (primer nivel) con dos tuplas, que representan un conjunto de datos de dos vehículos (segundo nivel), y que una de estas informaciones (accesorios) también viene dentro de una tupla (tercer nivel). Lo que necesitamos es iterar la tupla carros e imprimir todos los accesorios que aparezcan. El resultado deseado es el siguiente:\\n\\nLlantas de aleación\\nCerraduras eléctricas\\nPiloto automático\\nCentral multimedia\\nTecho panorámico\\nFrenos ABS \""
      ]
     },
     "execution_count": 3,
     "metadata": {},
     "output_type": "execute_result"
    }
   ],
   "source": [
    "\"\"\"Bucles for con tuplas \n",
    "El procedimiento de iteración en tuplas es el mismo que aprendimos con listas, en el entrenamiento anterior. Usamos la tupla como iterador de un bucle for simple o anidado, y obtenemos acceso a cada elemento individualmente.\n",
    "\n",
    "Para responder a esta pregunta, considera la misma tupla de la actividad anterior:\n",
    "\n",
    "carros = (\n",
    "    (\n",
    "        'Jetta Variant',\n",
    "        'Motor 4.0 Turbo',\n",
    "        2003,\n",
    "        False,\n",
    "        ('Llantas de aleación', 'Cerraduras eléctricas', 'Piloto automático')\n",
    "    ),\n",
    "    (\n",
    "        'Passat',\n",
    "        'Motor Diesel',\n",
    "        1991,\n",
    "        True,\n",
    "        ('Central multimedia', 'Techo panoramico', 'Frenos ABS')\n",
    "    )\n",
    ")COPIA EL CÓDIGO\n",
    "Observa que se trata de una tupla (primer nivel) con dos tuplas, que representan un conjunto de datos de dos vehículos (segundo nivel), y que una de estas informaciones (accesorios) también viene dentro de una tupla (tercer nivel). Lo que necesitamos es iterar la tupla carros e imprimir todos los accesorios que aparezcan. El resultado deseado es el siguiente:\n",
    "\n",
    "Llantas de aleación\n",
    "Cerraduras eléctricas\n",
    "Piloto automático\n",
    "Central multimedia\n",
    "Techo panorámico\n",
    "Frenos ABS \"\"\""
   ]
  },
  {
   "cell_type": "code",
   "execution_count": 5,
   "metadata": {},
   "outputs": [],
   "source": [
    "carros = (\n",
    "    (\n",
    "        'Jetta Variant',\n",
    "        'Motor 4.0 Turbo',\n",
    "        2003,\n",
    "        False,\n",
    "        ('Llantas de aleación', 'Cerraduras eléctricas', 'Piloto automático')\n",
    "    ),\n",
    "    (\n",
    "        'Passat',\n",
    "        'Motor Diesel',\n",
    "        1991,\n",
    "        True,\n",
    "        ('Central multimedia', 'Techo panoramico', 'Frenos ABS')\n",
    "    )\n",
    ")"
   ]
  },
  {
   "cell_type": "code",
   "execution_count": 19,
   "metadata": {},
   "outputs": [
    {
     "name": "stdout",
     "output_type": "stream",
     "text": [
      "Llantas de aleación\n",
      "Cerraduras eléctricas\n",
      "Piloto automático\n",
      "Central multimedia\n",
      "Techo panoramico\n",
      "Frenos ABS\n"
     ]
    }
   ],
   "source": [
    "for carro in carros:\n",
    "    for item in carro[-1]:\n",
    "        print(item)"
   ]
  }
 ],
 "metadata": {
  "kernelspec": {
   "display_name": "Python 3.9.4 64-bit",
   "language": "python",
   "name": "python3"
  },
  "language_info": {
   "codemirror_mode": {
    "name": "ipython",
    "version": 3
   },
   "file_extension": ".py",
   "mimetype": "text/x-python",
   "name": "python",
   "nbconvert_exporter": "python",
   "pygments_lexer": "ipython3",
   "version": "3.9.4"
  },
  "orig_nbformat": 4,
  "vscode": {
   "interpreter": {
    "hash": "4a642a9a94d05d387b7a27be99b5a4ff6656c8c24931cc81c2f78dd14cfb5dc8"
   }
  }
 },
 "nbformat": 4,
 "nbformat_minor": 2
}
