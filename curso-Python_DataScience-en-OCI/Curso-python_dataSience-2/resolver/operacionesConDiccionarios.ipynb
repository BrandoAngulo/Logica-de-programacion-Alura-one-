{
 "cells": [
  {
   "cell_type": "code",
   "execution_count": 1,
   "metadata": {},
   "outputs": [
    {
     "data": {
      "text/plain": [
       "\" Observa que, datos tiene dos elementos, donde la llave (key) es el nombre del vehículo y el valor (value) es un diccionario con las informaciones sobre este vehículo (año, kilometraje, valor y accesorios). Nuestra tarea en esta actividad es aprender a acceder a las informaciones de un diccionario dentro de otro diccionario.\\n\\nQueremos lo siguiente: 1) Testar si la llave accesorios existe en el diccionario de las informaciones del vehículo Crossfox (Respuesta esperada: False) 2) Testar si la llave accesorios existe en el diccionario de las informaciones del vehículo Passat (Respuesta esperada: True) 3) Obtener el valor del vehículo Crossfox (Respuesta esperada: 25000) 4) Acceder el último accesorio del vehículo Passat (Respuesta esperada: 'ABS')\\n\\nSelecciona la alternativa que muestra los códigos correctos para devolver y acceder a la información anterior (Consejo: utilice un notebook para comprobar los códigos de esta actividad): \""
      ]
     },
     "execution_count": 1,
     "metadata": {},
     "output_type": "execute_result"
    }
   ],
   "source": [
    "#Utiliza el diccionario datos para responder la pregunta:\n",
    "datos = {\n",
    "    'Passat': {\n",
    "        'año': 2012,\n",
    "        'km': 50000,\n",
    "        'valor': 75000,\n",
    "        'accesorios': ['Airbag', 'ABS']\n",
    "    }, \n",
    "    'Crossfox': {\n",
    "        'año': 2015,\n",
    "        'km': 35000,\n",
    "        'valor': 25000\n",
    "    }\n",
    "}\n",
    "\"\"\" Observa que, datos tiene dos elementos, donde la llave (key) es el nombre del vehículo y el valor (value) es un diccionario con las informaciones sobre este vehículo (año, kilometraje, valor y accesorios). Nuestra tarea en esta actividad es aprender a acceder a las informaciones de un diccionario dentro de otro diccionario.\n",
    "\n",
    "Queremos lo siguiente: 1) TestEar si la llave accesorios existe en el diccionario de las informaciones del vehículo Crossfox (Respuesta esperada: False) 2) Testar si la llave accesorios existe en el diccionario de las informaciones del vehículo Passat (Respuesta esperada: True) 3) Obtener el valor del vehículo Crossfox (Respuesta esperada: 25000) 4) Acceder el último accesorio del vehículo Passat (Respuesta esperada: 'ABS')\n",
    "\n",
    "Selecciona la alternativa que muestra los códigos correctos para devolver y acceder a la información anterior (Consejo: utilice un notebook para comprobar los códigos de esta actividad): \"\"\""
   ]
  },
  {
   "cell_type": "code",
   "execution_count": 15,
   "metadata": {},
   "outputs": [
    {
     "name": "stdout",
     "output_type": "stream",
     "text": [
      "False\n"
     ]
    }
   ],
   "source": [
    "#accediendo y obteniendo respuesta si un valor existe en un diccionatio dentro de otro diccionario  \n",
    "print(\"accesorios\" in datos[\"Crossfox\"])"
   ]
  },
  {
   "cell_type": "code",
   "execution_count": 23,
   "metadata": {},
   "outputs": [
    {
     "name": "stdout",
     "output_type": "stream",
     "text": [
      "True\n"
     ]
    }
   ],
   "source": [
    "#accediendo y obteniendo respuesta si un valor existe en un diccionatio dentro de otro diccionario  \n",
    "print(\"accesorios\" in datos[\"Passat\"]);"
   ]
  },
  {
   "cell_type": "code",
   "execution_count": 22,
   "metadata": {},
   "outputs": [
    {
     "name": "stdout",
     "output_type": "stream",
     "text": [
      "25000\n"
     ]
    }
   ],
   "source": [
    "#accesando y obteniendo un valor de un diccionario dentro de otro\n",
    "print(datos[\"Crossfox\"][\"valor\"])"
   ]
  },
  {
   "cell_type": "code",
   "execution_count": 33,
   "metadata": {},
   "outputs": [
    {
     "name": "stdout",
     "output_type": "stream",
     "text": [
      "ABS\n"
     ]
    }
   ],
   "source": [
    "#Accediendo al VALOR de un diccionario dentro de otro diccionario  \n",
    "print(datos[\"Passat\"][\"accesorios\"][-1]);"
   ]
  }
 ],
 "metadata": {
  "kernelspec": {
   "display_name": "Python 3.10.5 64-bit",
   "language": "python",
   "name": "python3"
  },
  "language_info": {
   "codemirror_mode": {
    "name": "ipython",
    "version": 3
   },
   "file_extension": ".py",
   "mimetype": "text/x-python",
   "name": "python",
   "nbconvert_exporter": "python",
   "pygments_lexer": "ipython3",
   "version": "3.10.5"
  },
  "orig_nbformat": 4,
  "vscode": {
   "interpreter": {
    "hash": "07e8dad1a011708ad6e072858c035be46a0854016a42c2723c4c943cd5321906"
   }
  }
 },
 "nbformat": 4,
 "nbformat_minor": 2
}
