{
 "cells": [
  {
   "cell_type": "code",
   "execution_count": 2,
   "metadata": {},
   "outputs": [
    {
     "data": {
      "text/plain": [
       "\" \\nConsidera también los siguientes códigos de selección:\\n\\n1) carros[0][3]\\n\\n2) carros[-1][-1][-1]\\n\\n3) carros[0][-1][:2]\\n\\nSelecciona la alternativa que muestra el resultado obtenido con los códigos de selección anteriores.\\n\\nAlternativa correta\\n1) False\\n\\n2) 'Frenos ABS'\\n\\n3) ('Llantas de aleación', 'Cerraduras eléctricas')\\n\\n\\nAlternativa correta\\n1) 2003\\n\\n2) 'Frenos ABS'\\n\\n3) ('Llantas de aleación', 'Cerraduras eléctricas')\\n\\n\\nAlternativa correta\\n1) 2003\\n\\n2) 'Frenos ABS'\\n\\n3) 'Piloto automático'\\n\\n\\nAlternativa correta\\n1) False\\n\\n2) 'Frenos ABS'\\n\\n3) 'Piloto automático' \""
      ]
     },
     "execution_count": 2,
     "metadata": {},
     "output_type": "execute_result"
    }
   ],
   "source": [
    "\"\"\" En nuestro primer entrenamiento de Python para Data Science, aprendimos cómo realizar selecciones de elementos de listas y arrays Numpy. El procedimiento para seleccionar en tuplas funciona de la misma manera. Considera la siguiente tupla:\n",
    "\n",
    "Selecciona la alternativa que muestra el resultado obtenido con los códigos de selección anteriores. \"\"\"\n",
    "carros = (\n",
    "    (\n",
    "        'Jetta Variant',\n",
    "        'Motor 4.0 Turbo',\n",
    "        2003,\n",
    "        False,\n",
    "        ('Llantas de aleación', 'Cerraduras eléctricas', 'Piloto automático')\n",
    "    ),\n",
    "    (\n",
    "        'Passat',\n",
    "        'Motor Diesel',\n",
    "        1991,\n",
    "        True,\n",
    "        ('Central multimedia', 'Techo panoramico', 'Frenos ABS')\n",
    "    )\n",
    ")\n",
    "\"\"\" \n",
    "Considera también los siguientes códigos de selección:\n",
    "\n",
    "1) carros[0][3]\n",
    "\n",
    "2) carros[-1][-1][-1]\n",
    "\n",
    "3) carros[0][-1][:2]\n",
    "\n",
    "Selecciona la alternativa que muestra el resultado obtenido con los códigos de selección anteriores.\n",
    "\n",
    "Alternativa correta\n",
    "1) False\n",
    "\n",
    "2) 'Frenos ABS'\n",
    "\n",
    "3) ('Llantas de aleación', 'Cerraduras eléctricas')\n",
    "\n",
    "\n",
    "Alternativa correta\n",
    "1) 2003\n",
    "\n",
    "2) 'Frenos ABS'\n",
    "\n",
    "3) ('Llantas de aleación', 'Cerraduras eléctricas')\n",
    "\n",
    "\n",
    "Alternativa correta\n",
    "1) 2003\n",
    "\n",
    "2) 'Frenos ABS'\n",
    "\n",
    "3) 'Piloto automático'\n",
    "\n",
    "\n",
    "Alternativa correta\n",
    "1) False\n",
    "\n",
    "2) 'Frenos ABS'\n",
    "\n",
    "3) 'Piloto automático' \"\"\""
   ]
  },
  {
   "cell_type": "code",
   "execution_count": 3,
   "metadata": {},
   "outputs": [
    {
     "data": {
      "text/plain": [
       "False"
      ]
     },
     "execution_count": 3,
     "metadata": {},
     "output_type": "execute_result"
    }
   ],
   "source": [
    "carros[0][3]"
   ]
  },
  {
   "cell_type": "code",
   "execution_count": 4,
   "metadata": {},
   "outputs": [
    {
     "data": {
      "text/plain": [
       "'Frenos ABS'"
      ]
     },
     "execution_count": 4,
     "metadata": {},
     "output_type": "execute_result"
    }
   ],
   "source": [
    "carros[-1][-1][-1]"
   ]
  },
  {
   "cell_type": "code",
   "execution_count": 5,
   "metadata": {},
   "outputs": [
    {
     "data": {
      "text/plain": [
       "('Llantas de aleación', 'Cerraduras eléctricas')"
      ]
     },
     "execution_count": 5,
     "metadata": {},
     "output_type": "execute_result"
    }
   ],
   "source": [
    "carros[0][-1][:2]"
   ]
  },
  {
   "cell_type": "code",
   "execution_count": null,
   "metadata": {},
   "outputs": [],
   "source": []
  }
 ],
 "metadata": {
  "kernelspec": {
   "display_name": "Python 3.9.4 64-bit",
   "language": "python",
   "name": "python3"
  },
  "language_info": {
   "codemirror_mode": {
    "name": "ipython",
    "version": 3
   },
   "file_extension": ".py",
   "mimetype": "text/x-python",
   "name": "python",
   "nbconvert_exporter": "python",
   "pygments_lexer": "ipython3",
   "version": "3.9.4"
  },
  "orig_nbformat": 4,
  "vscode": {
   "interpreter": {
    "hash": "4a642a9a94d05d387b7a27be99b5a4ff6656c8c24931cc81c2f78dd14cfb5dc8"
   }
  }
 },
 "nbformat": 4,
 "nbformat_minor": 2
}
